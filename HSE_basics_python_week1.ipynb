{
 "cells": [
  {
   "cell_type": "code",
   "execution_count": 4,
   "metadata": {
    "collapsed": false
   },
   "outputs": [
    {
     "name": "stdout",
     "output_type": "stream",
     "text": [
      "1 + 2 + 3 = 6\n"
     ]
    }
   ],
   "source": [
    "from __future__ import print_function\n",
    "print ('1','2','3',sep=' + ', end=' ')\n",
    "print ('=',1+2+3)"
   ]
  },
  {
   "cell_type": "code",
   "execution_count": 7,
   "metadata": {
    "collapsed": false
   },
   "outputs": [
    {
     "name": "stdout",
     "output_type": "stream",
     "text": [
      "Harry\n",
      "Hello, Harry!\n"
     ]
    }
   ],
   "source": [
    "name = raw_input()\n",
    "print ('Hello, ', name, '!', sep = '')"
   ]
  },
  {
   "cell_type": "code",
   "execution_count": 8,
   "metadata": {
    "collapsed": false
   },
   "outputs": [
    {
     "data": {
      "text/plain": [
       "5"
      ]
     },
     "execution_count": 8,
     "metadata": {},
     "output_type": "execute_result"
    }
   ],
   "source": [
    "int(5.9)"
   ]
  },
  {
   "cell_type": "code",
   "execution_count": 15,
   "metadata": {
    "collapsed": false
   },
   "outputs": [
    {
     "name": "stdout",
     "output_type": "stream",
     "text": [
      "5\n",
      "   _~_      _~_      _~_      _~_      _~_   \n",
      "  (o o)    (o o)    (o o)    (o o)    (o o)  \n",
      " /  V  \\  /  V  \\  /  V  \\  /  V  \\  /  V  \\ \n",
      "/(  _  )\\/(  _  )\\/(  _  )\\/(  _  )\\/(  _  )\\\n",
      "  ^^ ^^    ^^ ^^    ^^ ^^    ^^ ^^    ^^ ^^  \n"
     ]
    }
   ],
   "source": [
    "nat_number = int(raw_input())\n",
    "p1 = '   _~_   ' \n",
    "p2 = '  (o o)  '\n",
    "p3 = ' /  V  \\\\ ' \n",
    "p4 = '/(  _  )\\\\' \n",
    "p5 = '  ^^ ^^  '\n",
    "print(p1*nat_number,p2*nat_number,p3*nat_number,p4*nat_number,p5*nat_number,sep='\\n')"
   ]
  },
  {
   "cell_type": "code",
   "execution_count": 2,
   "metadata": {
    "collapsed": false
   },
   "outputs": [
    {
     "name": "stdout",
     "output_type": "stream",
     "text": [
      "3\n",
      "14\n",
      "4\n"
     ]
    }
   ],
   "source": [
    "#N школьников делят K яблок поровну, не делящийся остаток остается в корзинке. Сколько яблок достанется каждому школьнику?\n",
    "from __future__ import print_function\n",
    "pupils = int(raw_input())\n",
    "apples = int(raw_input())\n",
    "print(apples//pupils)"
   ]
  },
  {
   "cell_type": "code",
   "execution_count": 4,
   "metadata": {
    "collapsed": false
   },
   "outputs": [
    {
     "name": "stdout",
     "output_type": "stream",
     "text": [
      "3\n",
      "14\n",
      "2\n"
     ]
    }
   ],
   "source": [
    "#N школьников делят K яблок поровну, не делящийся остаток остается в корзинке. Сколько яблок останется в корзинке?\n",
    "pupils = int(raw_input())\n",
    "apples = int(raw_input())\n",
    "print(apples % pupils)"
   ]
  },
  {
   "cell_type": "code",
   "execution_count": 7,
   "metadata": {
    "collapsed": false
   },
   "outputs": [
    {
     "name": "stdout",
     "output_type": "stream",
     "text": [
      "1\n",
      "99\n",
      "2\n",
      "99\n",
      "4 98\n"
     ]
    }
   ],
   "source": [
    "a = int(raw_input())\n",
    "b = int(raw_input())\n",
    "c = int(raw_input())\n",
    "d = int(raw_input())\n",
    "cost1 = a * 100 + b\n",
    "cost2 = c * 100 + d\n",
    "totalCost = cost1 + cost2\n",
    "print(totalCost // 100, totalCost % 100)"
   ]
  },
  {
   "cell_type": "code",
   "execution_count": 8,
   "metadata": {
    "collapsed": false
   },
   "outputs": [
    {
     "name": "stdout",
     "output_type": "stream",
     "text": [
      "256\n",
      "0\n"
     ]
    }
   ],
   "source": [
    "n = int(raw_input())\n",
    "print(n % 256)"
   ]
  },
  {
   "cell_type": "code",
   "execution_count": 9,
   "metadata": {
    "collapsed": false
   },
   "outputs": [
    {
     "name": "stdout",
     "output_type": "stream",
     "text": [
      "2\n",
      "4\n"
     ]
    }
   ],
   "source": [
    "N = int(raw_input())\n",
    "print(2**N)"
   ]
  },
  {
   "cell_type": "code",
   "execution_count": 10,
   "metadata": {
    "collapsed": false
   },
   "outputs": [
    {
     "name": "stdout",
     "output_type": "stream",
     "text": [
      "179\n",
      "9\n"
     ]
    }
   ],
   "source": [
    "#Вводится единственное целое неотрицательное число (гарантируется, что оно не превышает 10000)\n",
    "N = int(raw_input())\n",
    "print(N % 10)"
   ]
  },
  {
   "cell_type": "code",
   "execution_count": 12,
   "metadata": {
    "collapsed": false
   },
   "outputs": [
    {
     "name": "stdout",
     "output_type": "stream",
     "text": [
      "42\n",
      "4\n"
     ]
    }
   ],
   "source": [
    "#Дано двузначное число. Найдите число десятков в нем.\n",
    "N = int(raw_input())\n",
    "print(N // 10)"
   ]
  },
  {
   "cell_type": "code",
   "execution_count": 19,
   "metadata": {
    "collapsed": false
   },
   "outputs": [
    {
     "name": "stdout",
     "output_type": "stream",
     "text": [
      "45\n",
      "4\n"
     ]
    }
   ],
   "source": [
    "#Дано натуральное число. Найдите число десятков в его десятичной записи (вторую справа цифру).\n",
    "N = int(raw_input())\n",
    "print((N // 10) % 10)"
   ]
  },
  {
   "cell_type": "code",
   "execution_count": 21,
   "metadata": {
    "collapsed": false
   },
   "outputs": [
    {
     "name": "stdout",
     "output_type": "stream",
     "text": [
      "179\n",
      "17\n"
     ]
    }
   ],
   "source": [
    "#Дано трехзначное число. Найдите сумму его цифр.\n",
    "N = int(raw_input())\n",
    "print(N // 100 + (N // 10) % 10 + N % 10)"
   ]
  },
  {
   "cell_type": "code",
   "execution_count": 24,
   "metadata": {
    "collapsed": false
   },
   "outputs": [
    {
     "name": "stdout",
     "output_type": "stream",
     "text": [
      "AAAAAAAAAAAAAAAAAAAAAAAAAAAAAAAAAAAAAAAAAAAAAAAAAAAAAAAAAAAAAAAAAAAAAAAAAAAAAAAAAAAAAAAAAAAAAAAAAAAA\n"
     ]
    }
   ],
   "source": [
    "#Запишите букву 'A' (латинскую, заглавную) 100 раз подряд. \n",
    "#Сдайте на проверку программу, которая выводит эту строчку(только буквы, без кавычек).\n",
    "print('A' * 100)"
   ]
  },
  {
   "cell_type": "code",
   "execution_count": 33,
   "metadata": {
    "collapsed": false
   },
   "outputs": [
    {
     "name": "stdout",
     "output_type": "stream",
     "text": [
      "120\n",
      "2 0\n"
     ]
    }
   ],
   "source": [
    "#Дано число N. \n",
    "#С начала суток прошло N минут. Определите, сколько часов и минут будут показывать электронные часы в этот момент\n",
    "N = int(raw_input())\n",
    "print((N // 60) % 24, N % 60)"
   ]
  },
  {
   "cell_type": "code",
   "execution_count": 35,
   "metadata": {
    "collapsed": false
   },
   "outputs": [
    {
     "name": "stdout",
     "output_type": "stream",
     "text": [
      "123\n",
      "2\n",
      "1\n"
     ]
    }
   ],
   "source": [
    "#отрезать от числа n k цифр справа\n",
    "n = int(raw_input())\n",
    "k = int(raw_input())\n",
    "print(n // 10**k)"
   ]
  },
  {
   "cell_type": "code",
   "execution_count": 17,
   "metadata": {
    "collapsed": false
   },
   "outputs": [
    {
     "name": "stdout",
     "output_type": "stream",
     "text": [
      "11\n",
      "6\n",
      "2\n",
      "2\n"
     ]
    }
   ],
   "source": [
    "#округление вверх\n",
    "a = int(raw_input())\n",
    "b = int(raw_input())\n",
    "print((a + b - 1) // b)\n",
    "print((a - 1) // b + 1)"
   ]
  },
  {
   "cell_type": "code",
   "execution_count": 38,
   "metadata": {
    "collapsed": false
   },
   "outputs": [
    {
     "name": "stdout",
     "output_type": "stream",
     "text": [
      "2\n",
      "50\n",
      "4\n",
      "10 0\n"
     ]
    }
   ],
   "source": [
    "#Пирожок в столовой стоит A рублей и B копеек. \n",
    "#Определите, сколько рублей и копеек нужно заплатить за N пирожков.\n",
    "A = int(raw_input())\n",
    "B = int(raw_input())\n",
    "N = int(raw_input())\n",
    "cost = (A * 100 + B) * N\n",
    "print(cost // 100, cost % 100)"
   ]
  },
  {
   "cell_type": "code",
   "execution_count": 55,
   "metadata": {
    "collapsed": false
   },
   "outputs": [
    {
     "name": "stdout",
     "output_type": "stream",
     "text": [
      "179\n",
      "The next number for the number 179 is 180.\n",
      "The previous number for the number 179 is 178.\n"
     ]
    }
   ],
   "source": [
    "N = int(raw_input())\n",
    "print('The next number for the number ', N, ' is ', N+1, '.', sep='')\n",
    "print('The previous number for the number ', N, ' is ', N-1, '.', sep='')"
   ]
  },
  {
   "cell_type": "code",
   "execution_count": 72,
   "metadata": {
    "collapsed": false
   },
   "outputs": [
    {
     "name": "stdout",
     "output_type": "stream",
     "text": [
      "1\n",
      "0\n"
     ]
    }
   ],
   "source": [
    "N = int(raw_input())\n",
    "print((N + 1) % 2)"
   ]
  },
  {
   "cell_type": "code",
   "execution_count": 89,
   "metadata": {
    "collapsed": false
   },
   "outputs": [
    {
     "name": "stdout",
     "output_type": "stream",
     "text": [
      "8\n",
      "10\n"
     ]
    }
   ],
   "source": [
    "#Дано целое число N. Выведите следующее за ним четное число.\n",
    "N = int(raw_input())\n",
    "print((N - 1) % 2 + N + 1)"
   ]
  },
  {
   "cell_type": "code",
   "execution_count": 2,
   "metadata": {
    "collapsed": false
   },
   "outputs": [
    {
     "name": "stdout",
     "output_type": "stream",
     "text": [
      "0\n",
      "0\n"
     ]
    }
   ],
   "source": [
    "#Заданное число N записали 100 раз подряд и затем возвели в квадрат. Что получилось?\n",
    "from __future__ import print_function\n",
    "N = raw_input()\n",
    "print(int(N * 100)**2)"
   ]
  },
  {
   "cell_type": "code",
   "execution_count": null,
   "metadata": {
    "collapsed": true
   },
   "outputs": [],
   "source": [
    "#Длина Московской кольцевой автомобильной дороги — 109 километров. \n",
    "#Байкер Вася стартует с нулевого километра МКАД и едет со скоростью v километров в час. \n",
    "#На какой отметке он остановится через t часов?\n",
    "v = int(raw_input())\n",
    "t = int(raw_input())\n",
    "pint((v * t) % 109)"
   ]
  },
  {
   "cell_type": "code",
   "execution_count": null,
   "metadata": {
    "collapsed": true
   },
   "outputs": [],
   "source": [
    "#Электронные часы (вводятся секунды)\n",
    "N = int(raw_input())\n",
    "hours = N // 3600\n",
    "minutes = (N % 3600) // 60\n",
    "seconds = (N % 3600) % 60\n",
    "print(hours, ':', str(minutes // 10) + str(minutes % 10), ':', str(seconds // 10) + str(seconds % 10), sep='')"
   ]
  },
  {
   "cell_type": "code",
   "execution_count": null,
   "metadata": {
    "collapsed": true
   },
   "outputs": [],
   "source": [
    "N = int(raw_input())\n",
    "h = (N // 3600) % 24\n",
    "m = (N % 3600) // 60\n",
    "s = (N % 3600) % 60\n",
    "mm = str(m // 10) + str(m % 10)\n",
    "ss = str(s // 10) + str(s % 10)\n",
    "print(h, ':', mm, ':', ss, sep='')"
   ]
  },
  {
   "cell_type": "code",
   "execution_count": 3,
   "metadata": {
    "collapsed": false
   },
   "outputs": [
    {
     "name": "stdout",
     "output_type": "stream",
     "text": [
      "1\n",
      "1\n",
      "1\n",
      "2\n",
      "2\n",
      "2\n",
      "3661\n"
     ]
    }
   ],
   "source": [
    "#Даны два момента времени в пределах одних и тех же суток. \n",
    "#Для каждого момента указан час, минута и секунда. Известно, что второй момент времени наступил не раньше первого.\n",
    "#Определите сколько секунд прошло между двумя моментами времени.\n",
    "h1 = int(raw_input())\n",
    "m1 = int(raw_input())\n",
    "s1 = int(raw_input())\n",
    "h2 = int(raw_input())\n",
    "m2 = int(raw_input())\n",
    "s2 = int(raw_input())\n",
    "h = (h2 - h1) * 3600\n",
    "m = (m2- m1) * 60\n",
    "s = s2 - s1\n",
    "print(h+m+s)"
   ]
  },
  {
   "cell_type": "code",
   "execution_count": 6,
   "metadata": {
    "collapsed": false
   },
   "outputs": [
    {
     "name": "stdout",
     "output_type": "stream",
     "text": [
      "20\n",
      "30\n",
      "2\n"
     ]
    }
   ],
   "source": [
    "#За день машина проезжает N километров. Сколько дней нужно, чтобы проехать маршут длиной M километров?\n",
    "N = int(raw_input())\n",
    "M = int(raw_input())\n",
    "print((M + N - 1) // N)"
   ]
  },
  {
   "cell_type": "code",
   "execution_count": 16,
   "metadata": {
    "collapsed": false
   },
   "outputs": [
    {
     "name": "stdout",
     "output_type": "stream",
     "text": [
      "10\n",
      "3\n",
      "2\n",
      "8\n"
     ]
    }
   ],
   "source": [
    "#Улитка ползет по вертикальному шесту высотой H метров, поднимаясь за день на A метров, а за ночь спускаясь на B метров. \n",
    "#На какой день улитка доползет до вершины шеста?\n",
    "H = int(raw_input())\n",
    "A = int(raw_input())\n",
    "B = int(raw_input())\n",
    "print (((H - B - 1) // (A - B)) + 1)"
   ]
  },
  {
   "cell_type": "code",
   "execution_count": 36,
   "metadata": {
    "collapsed": false
   },
   "outputs": [
    {
     "name": "stdout",
     "output_type": "stream",
     "text": [
      "2002\n",
      "2 0 0 2\n",
      "20\n",
      "20\n",
      "1\n"
     ]
    }
   ],
   "source": [
    "N = int(raw_input())\n",
    "N\n",
    "odin = N // 1000\n",
    "dva = (N % 1000) // 100\n",
    "tri = (N % 100) // 10\n",
    "chetyre = (N % 100) % 10\n",
    "print(odin, dva, tri, chetyre)\n",
    "A = str(odin) + str(dva)\n",
    "B = str(chetyre) + str(tri)\n",
    "print(A)\n",
    "print(B)\n",
    "print(int(int(A) == int(B)))"
   ]
  },
  {
   "cell_type": "code",
   "execution_count": 37,
   "metadata": {
    "collapsed": false
   },
   "outputs": [
    {
     "name": "stdout",
     "output_type": "stream",
     "text": [
      "500\n",
      "0\n"
     ]
    }
   ],
   "source": [
    "N = int(input())\n",
    "odin = N // 1000\n",
    "dva = (N % 1000) // 100\n",
    "tri = (N % 100) // 10\n",
    "chetyre = (N % 100) % 10\n",
    "A = str(odin) + str(dva)\n",
    "B = str(chetyre) + str(tri)\n",
    "print(int(int(A) == int(B)))"
   ]
  },
  {
   "cell_type": "code",
   "execution_count": 42,
   "metadata": {
    "collapsed": false
   },
   "outputs": [
    {
     "name": "stdout",
     "output_type": "stream",
     "text": [
      "8\n",
      "5\n",
      "8\n"
     ]
    }
   ],
   "source": [
    "#Максимум из двух. Использовать можно только арифметические операции\n",
    "A = int(raw_input())\n",
    "B = int(raw_input())\n",
    "print(((A // B) * A + (B // A) * B) // ((A // B) + (B // A)))"
   ]
  },
  {
   "cell_type": "code",
   "execution_count": 48,
   "metadata": {
    "collapsed": false
   },
   "outputs": [
    {
     "name": "stdout",
     "output_type": "stream",
     "text": [
      "3\n",
      "6\n",
      "NO\n"
     ]
    }
   ],
   "source": [
    "#В этой задаче необходимо проверить, делится ли число A на число B нацело. \n",
    "#Использовать можно только арифметические операции, использование любых видов ветвлений, функций и т.п. запрещено\n",
    "A = int(raw_input())\n",
    "B = int(raw_input())\n",
    "print('YES' * int(A % B == 0) + 'NO' * int(A % B != 0))"
   ]
  },
  {
   "cell_type": "code",
   "execution_count": null,
   "metadata": {
    "collapsed": true
   },
   "outputs": [],
   "source": []
  }
 ],
 "metadata": {
  "kernelspec": {
   "display_name": "Python 2",
   "language": "python",
   "name": "python2"
  },
  "language_info": {
   "codemirror_mode": {
    "name": "ipython",
    "version": 2
   },
   "file_extension": ".py",
   "mimetype": "text/x-python",
   "name": "python",
   "nbconvert_exporter": "python",
   "pygments_lexer": "ipython2",
   "version": "2.7.13"
  }
 },
 "nbformat": 4,
 "nbformat_minor": 0
}
